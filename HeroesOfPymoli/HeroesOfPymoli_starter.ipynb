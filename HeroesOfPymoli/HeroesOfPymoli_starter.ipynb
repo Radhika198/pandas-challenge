{
 "cells": [
  {
   "cell_type": "markdown",
   "metadata": {},
   "source": [
    "# Observations"
   ]
  },
  {
   "cell_type": "markdown",
   "metadata": {},
   "source": [
    "-  There are 576 active players, the majority are male players (84%) and small amount of female players (14%).\n",
    "\n",
    "- The majority participants are in age group between 20-24 (44.8%), then the next group of participants are in age groups falling between 15-19 (18.60%) and 25-29 (13.4%).\n",
    "\n",
    "- \"Final Critic\" is the most popular and profitable item. \n",
    "\n"
   ]
  },
  {
   "cell_type": "code",
   "execution_count": 51,
   "metadata": {},
   "outputs": [],
   "source": [
    "# Dependencies and Setup\n",
    "import pandas as pd\n",
    "\n",
    "# File to Load (Remember to Change These)\n",
    "file_to_load = \"Resources/purchase_data.csv\"\n",
    "\n",
    "# Read Purchasing File and store into Pandas data frame\n",
    "purchase_data = pd.read_csv(file_to_load)\n"
   ]
  },
  {
   "cell_type": "markdown",
   "metadata": {},
   "source": [
    "## Player Count"
   ]
  },
  {
   "cell_type": "markdown",
   "metadata": {},
   "source": [
    "* Display the total number of players\n"
   ]
  },
  {
   "cell_type": "code",
   "execution_count": 52,
   "metadata": {},
   "outputs": [
    {
     "data": {
      "text/html": [
       "<div>\n",
       "<style scoped>\n",
       "    .dataframe tbody tr th:only-of-type {\n",
       "        vertical-align: middle;\n",
       "    }\n",
       "\n",
       "    .dataframe tbody tr th {\n",
       "        vertical-align: top;\n",
       "    }\n",
       "\n",
       "    .dataframe thead th {\n",
       "        text-align: right;\n",
       "    }\n",
       "</style>\n",
       "<table border=\"1\" class=\"dataframe\">\n",
       "  <thead>\n",
       "    <tr style=\"text-align: right;\">\n",
       "      <th></th>\n",
       "      <th>Total Players</th>\n",
       "    </tr>\n",
       "  </thead>\n",
       "  <tbody>\n",
       "    <tr>\n",
       "      <th>0</th>\n",
       "      <td>576</td>\n",
       "    </tr>\n",
       "  </tbody>\n",
       "</table>\n",
       "</div>"
      ],
      "text/plain": [
       "   Total Players\n",
       "0            576"
      ]
     },
     "execution_count": 52,
     "metadata": {},
     "output_type": "execute_result"
    }
   ],
   "source": [
    "#Calculate toltal number of players\n",
    "tot_players = len(purchase_data.SN.unique())\n",
    "total_players = pd.DataFrame({'Total Players':[tot_players]})\n",
    "total_players"
   ]
  },
  {
   "cell_type": "markdown",
   "metadata": {},
   "source": [
    "## Purchasing Analysis (Total)"
   ]
  },
  {
   "cell_type": "markdown",
   "metadata": {},
   "source": [
    "* Run basic calculations to obtain number of unique items, average price, etc.\n",
    "\n",
    "\n",
    "* Create a summary data frame to hold the results\n",
    "\n",
    "\n",
    "* Optional: give the displayed data cleaner formatting\n",
    "\n",
    "\n",
    "* Display the summary data frame\n"
   ]
  },
  {
   "cell_type": "code",
   "execution_count": 53,
   "metadata": {
    "scrolled": true
   },
   "outputs": [
    {
     "data": {
      "text/html": [
       "<div>\n",
       "<style scoped>\n",
       "    .dataframe tbody tr th:only-of-type {\n",
       "        vertical-align: middle;\n",
       "    }\n",
       "\n",
       "    .dataframe tbody tr th {\n",
       "        vertical-align: top;\n",
       "    }\n",
       "\n",
       "    .dataframe thead th {\n",
       "        text-align: right;\n",
       "    }\n",
       "</style>\n",
       "<table border=\"1\" class=\"dataframe\">\n",
       "  <thead>\n",
       "    <tr style=\"text-align: right;\">\n",
       "      <th></th>\n",
       "      <th>Number of Unique Items</th>\n",
       "      <th>Average Price</th>\n",
       "      <th>Number of Purchases</th>\n",
       "      <th>Total Revenue</th>\n",
       "    </tr>\n",
       "  </thead>\n",
       "  <tbody>\n",
       "    <tr>\n",
       "      <th>0</th>\n",
       "      <td>179</td>\n",
       "      <td>$3.05</td>\n",
       "      <td>780</td>\n",
       "      <td>$2,379.77</td>\n",
       "    </tr>\n",
       "  </tbody>\n",
       "</table>\n",
       "</div>"
      ],
      "text/plain": [
       "   Number of Unique Items Average Price  Number of Purchases Total Revenue\n",
       "0                     179         $3.05                  780     $2,379.77"
      ]
     },
     "execution_count": 53,
     "metadata": {},
     "output_type": "execute_result"
    }
   ],
   "source": [
    "# Calculating avg. purchase price, total purchases, total revenue\n",
    "avg_price = purchase_data[\"Price\"].mean()\n",
    "total_revenue = purchase_data[\"Price\"].sum()\n",
    "total_num_purchases = purchase_data[\"Price\"].count()\n",
    "item_count = len(purchase_data[\"Item ID\"].unique())\n",
    "\n",
    "\n",
    "# Creating summary data frame to hold the results \n",
    "summary_df = pd.DataFrame({\"Number of Unique Items\": item_count,\n",
    "                               \"Total Revenue\": [total_revenue],\n",
    "                               \"Number of Purchases\": [total_num_purchases],\n",
    "                               \"Average Price\": [avg_price]})\n",
    "# Data formating\n",
    "summary_df = summary_df.round(2)\n",
    "summary_df [\"Average Price\"] = summary_df[\"Average Price\"].map(\"${:,.2f}\".format)\n",
    "summary_df [\"Total Revenue\"] = summary_df[\"Total Revenue\"].map(\"${:,.2f}\".format)\n",
    "\n",
    "# Arranging the column names \n",
    "summary_df = summary_df.loc[:, [\"Number of Unique Items\", \"Average Price\", \"Number of Purchases\", \"Total Revenue\"]]\n",
    "\n",
    "# Display summary data frame\n",
    "summary_df"
   ]
  },
  {
   "cell_type": "markdown",
   "metadata": {},
   "source": [
    "## Gender Demographics"
   ]
  },
  {
   "cell_type": "markdown",
   "metadata": {},
   "source": [
    "* Percentage and Count of Male Players\n",
    "\n",
    "\n",
    "* Percentage and Count of Female Players\n",
    "\n",
    "\n",
    "* Percentage and Count of Other / Non-Disclosed\n",
    "\n",
    "\n"
   ]
  },
  {
   "cell_type": "code",
   "execution_count": 54,
   "metadata": {},
   "outputs": [
    {
     "data": {
      "text/html": [
       "<div>\n",
       "<style scoped>\n",
       "    .dataframe tbody tr th:only-of-type {\n",
       "        vertical-align: middle;\n",
       "    }\n",
       "\n",
       "    .dataframe tbody tr th {\n",
       "        vertical-align: top;\n",
       "    }\n",
       "\n",
       "    .dataframe thead th {\n",
       "        text-align: right;\n",
       "    }\n",
       "</style>\n",
       "<table border=\"1\" class=\"dataframe\">\n",
       "  <thead>\n",
       "    <tr style=\"text-align: right;\">\n",
       "      <th></th>\n",
       "      <th>Total Count</th>\n",
       "      <th>Percentage of Players</th>\n",
       "    </tr>\n",
       "  </thead>\n",
       "  <tbody>\n",
       "    <tr>\n",
       "      <th>Male</th>\n",
       "      <td>484</td>\n",
       "      <td>84.03%</td>\n",
       "    </tr>\n",
       "    <tr>\n",
       "      <th>Female</th>\n",
       "      <td>81</td>\n",
       "      <td>14.06%</td>\n",
       "    </tr>\n",
       "    <tr>\n",
       "      <th>Other / Non-Disclosed</th>\n",
       "      <td>11</td>\n",
       "      <td>1.91%</td>\n",
       "    </tr>\n",
       "  </tbody>\n",
       "</table>\n",
       "</div>"
      ],
      "text/plain": [
       "                       Total Count Percentage of Players\n",
       "Male                           484                84.03%\n",
       "Female                          81                14.06%\n",
       "Other / Non-Disclosed           11                 1.91%"
      ]
     },
     "execution_count": 54,
     "metadata": {},
     "output_type": "execute_result"
    }
   ],
   "source": [
    "# Groupby gender and count unique players\n",
    "groupedby = purchase_data.groupby(['Gender'])\n",
    "gender_counts = groupedby['SN'].nunique()\n",
    "sum_gender_counts = gender_counts.sum()\n",
    "\n",
    "#Count and Percentage of Male Players\n",
    "male_count = gender_counts['Male']\n",
    "male_percent = (male_count/sum_gender_counts) * 100\n",
    "\n",
    "#Count and Percentage of Female Players\n",
    "female_count = gender_counts['Female']\n",
    "female_percent = (female_count/sum_gender_counts) * 100\n",
    "\n",
    "#Count and Percentage of Other / Non-Disclosed\n",
    "other_count = gender_counts['Other / Non-Disclosed']\n",
    "other_percent = (other_count/sum_gender_counts) * 100\n",
    "\n",
    "# Creating gender data frame to hold the results and formatting\n",
    "gender_df = pd.DataFrame(gender_counts)\n",
    "gender_df['Percents'] = [female_percent, male_percent, other_percent]\n",
    "gender_df[\"Percents\"] = gender_df[\"Percents\"].map(\"{:.2f}%\".format)\n",
    "output=gender_df.sort_values([\"SN\", \"Percents\"], ascending=False).head()\n",
    "\n",
    "# Remove index in top left\n",
    "output.index.name = None\n",
    "\n",
    "# Arranging the column names\n",
    "output.columns=[\"Total Count\", \"Percentage of Players\"]\n",
    "\n",
    "output\n"
   ]
  },
  {
   "cell_type": "markdown",
   "metadata": {},
   "source": [
    "\n",
    "## Purchasing Analysis (Gender)"
   ]
  },
  {
   "cell_type": "markdown",
   "metadata": {},
   "source": [
    "* Run basic calculations to obtain purchase count, avg. purchase price, avg. purchase total per person etc. by gender\n",
    "\n",
    "\n",
    "\n",
    "\n",
    "* Create a summary data frame to hold the results\n",
    "\n",
    "\n",
    "* Optional: give the displayed data cleaner formatting\n",
    "\n",
    "\n",
    "* Display the summary data frame"
   ]
  },
  {
   "cell_type": "code",
   "execution_count": 55,
   "metadata": {},
   "outputs": [
    {
     "data": {
      "text/html": [
       "<style type=\"text/css\">\n",
       "</style>\n",
       "<table id=\"T_206a1\">\n",
       "  <thead>\n",
       "    <tr>\n",
       "      <th class=\"blank level0\" >&nbsp;</th>\n",
       "      <th id=\"T_206a1_level0_col0\" class=\"col_heading level0 col0\" >Purchase Count</th>\n",
       "      <th id=\"T_206a1_level0_col1\" class=\"col_heading level0 col1\" >Average Purchase Price</th>\n",
       "      <th id=\"T_206a1_level0_col2\" class=\"col_heading level0 col2\" >Total Purchase Value</th>\n",
       "      <th id=\"T_206a1_level0_col3\" class=\"col_heading level0 col3\" >Avg Total Purchase per Person</th>\n",
       "    </tr>\n",
       "    <tr>\n",
       "      <th class=\"index_name level0\" >Gender</th>\n",
       "      <th class=\"blank col0\" >&nbsp;</th>\n",
       "      <th class=\"blank col1\" >&nbsp;</th>\n",
       "      <th class=\"blank col2\" >&nbsp;</th>\n",
       "      <th class=\"blank col3\" >&nbsp;</th>\n",
       "    </tr>\n",
       "  </thead>\n",
       "  <tbody>\n",
       "    <tr>\n",
       "      <th id=\"T_206a1_level0_row0\" class=\"row_heading level0 row0\" >Female</th>\n",
       "      <td id=\"T_206a1_row0_col0\" class=\"data row0 col0\" >113</td>\n",
       "      <td id=\"T_206a1_row0_col1\" class=\"data row0 col1\" >$3.20</td>\n",
       "      <td id=\"T_206a1_row0_col2\" class=\"data row0 col2\" >$361.94</td>\n",
       "      <td id=\"T_206a1_row0_col3\" class=\"data row0 col3\" >$4.47</td>\n",
       "    </tr>\n",
       "    <tr>\n",
       "      <th id=\"T_206a1_level0_row1\" class=\"row_heading level0 row1\" >Male</th>\n",
       "      <td id=\"T_206a1_row1_col0\" class=\"data row1 col0\" >652</td>\n",
       "      <td id=\"T_206a1_row1_col1\" class=\"data row1 col1\" >$3.02</td>\n",
       "      <td id=\"T_206a1_row1_col2\" class=\"data row1 col2\" >$1,967.64</td>\n",
       "      <td id=\"T_206a1_row1_col3\" class=\"data row1 col3\" >$4.07</td>\n",
       "    </tr>\n",
       "    <tr>\n",
       "      <th id=\"T_206a1_level0_row2\" class=\"row_heading level0 row2\" >Other / Non-Disclosed</th>\n",
       "      <td id=\"T_206a1_row2_col0\" class=\"data row2 col0\" >15</td>\n",
       "      <td id=\"T_206a1_row2_col1\" class=\"data row2 col1\" >$3.35</td>\n",
       "      <td id=\"T_206a1_row2_col2\" class=\"data row2 col2\" >$50.19</td>\n",
       "      <td id=\"T_206a1_row2_col3\" class=\"data row2 col3\" >$4.56</td>\n",
       "    </tr>\n",
       "  </tbody>\n",
       "</table>\n"
      ],
      "text/plain": [
       "<pandas.io.formats.style.Styler at 0x1700066ab00>"
      ]
     },
     "execution_count": 55,
     "metadata": {},
     "output_type": "execute_result"
    }
   ],
   "source": [
    "# Groupby gender and count total purchase, average purchase\n",
    "gender = purchase_data.groupby(['Gender'])\n",
    "\n",
    "# Total purchases by gender \n",
    "purchase_count = gender[\"Purchase ID\"].count()\n",
    "\n",
    "# Avg. purchase prices by gender\n",
    "avg_purchase_price = gender[\"Price\"].mean()\n",
    "\n",
    "# Avg. purchase total by gender \n",
    "purchase_total = gender[\"Price\"].sum()\n",
    "\n",
    "# Avg. purchase total by gender divivded by gender count\n",
    "avg_purchase_per_person = purchase_total/gender_counts\n",
    "\n",
    "# Create New dataframe                                                                                                         \n",
    "gender_pur_analysis = pd.DataFrame({\"Purchase Count\": purchase_count, \n",
    "                                    \"Average Purchase Price\": avg_purchase_price,\n",
    "                                    \"Total Purchase Value\":purchase_total,\n",
    "                                    \"Avg Total Purchase per Person\": avg_purchase_per_person})\n",
    "\n",
    "# Provide index in top left as \"Gender\"\n",
    "gender_pur_analysis.index.name = \"Gender\"\n",
    "\n",
    "# Format with currency style\n",
    "gender_pur_analysis.style.format({\"Average Purchase Price\":\"${:,.2f}\",\n",
    "                                  \"Total Purchase Value\":\"${:,.2f}\",\n",
    "                                  \"Avg Total Purchase per Person\":\"${:,.2f}\"})\n"
   ]
  },
  {
   "cell_type": "markdown",
   "metadata": {},
   "source": [
    "## Age Demographics"
   ]
  },
  {
   "cell_type": "markdown",
   "metadata": {},
   "source": [
    "* Establish bins for ages\n",
    "\n",
    "\n",
    "* Categorize the existing players using the age bins. Hint: use pd.cut()\n",
    "\n",
    "\n",
    "* Calculate the numbers and percentages by age group\n",
    "\n",
    "\n",
    "* Create a summary data frame to hold the results\n",
    "\n",
    "\n",
    "* Optional: round the percentage column to two decimal points\n",
    "\n",
    "\n",
    "* Display Age Demographics Table\n"
   ]
  },
  {
   "cell_type": "code",
   "execution_count": 46,
   "metadata": {},
   "outputs": [
    {
     "data": {
      "text/html": [
       "<style type=\"text/css\">\n",
       "</style>\n",
       "<table id=\"T_95a2c\">\n",
       "  <thead>\n",
       "    <tr>\n",
       "      <th class=\"blank level0\" >&nbsp;</th>\n",
       "      <th id=\"T_95a2c_level0_col0\" class=\"col_heading level0 col0\" >Total Count</th>\n",
       "      <th id=\"T_95a2c_level0_col1\" class=\"col_heading level0 col1\" >Percentage of Players</th>\n",
       "    </tr>\n",
       "  </thead>\n",
       "  <tbody>\n",
       "    <tr>\n",
       "      <th id=\"T_95a2c_level0_row0\" class=\"row_heading level0 row0\" ><10</th>\n",
       "      <td id=\"T_95a2c_row0_col0\" class=\"data row0 col0\" >17</td>\n",
       "      <td id=\"T_95a2c_row0_col1\" class=\"data row0 col1\" >2.95%</td>\n",
       "    </tr>\n",
       "    <tr>\n",
       "      <th id=\"T_95a2c_level0_row1\" class=\"row_heading level0 row1\" >10-14</th>\n",
       "      <td id=\"T_95a2c_row1_col0\" class=\"data row1 col0\" >22</td>\n",
       "      <td id=\"T_95a2c_row1_col1\" class=\"data row1 col1\" >3.82%</td>\n",
       "    </tr>\n",
       "    <tr>\n",
       "      <th id=\"T_95a2c_level0_row2\" class=\"row_heading level0 row2\" >15-19</th>\n",
       "      <td id=\"T_95a2c_row2_col0\" class=\"data row2 col0\" >107</td>\n",
       "      <td id=\"T_95a2c_row2_col1\" class=\"data row2 col1\" >18.58%</td>\n",
       "    </tr>\n",
       "    <tr>\n",
       "      <th id=\"T_95a2c_level0_row3\" class=\"row_heading level0 row3\" >20-24</th>\n",
       "      <td id=\"T_95a2c_row3_col0\" class=\"data row3 col0\" >258</td>\n",
       "      <td id=\"T_95a2c_row3_col1\" class=\"data row3 col1\" >44.79%</td>\n",
       "    </tr>\n",
       "    <tr>\n",
       "      <th id=\"T_95a2c_level0_row4\" class=\"row_heading level0 row4\" >25-29</th>\n",
       "      <td id=\"T_95a2c_row4_col0\" class=\"data row4 col0\" >77</td>\n",
       "      <td id=\"T_95a2c_row4_col1\" class=\"data row4 col1\" >13.37%</td>\n",
       "    </tr>\n",
       "    <tr>\n",
       "      <th id=\"T_95a2c_level0_row5\" class=\"row_heading level0 row5\" >30-34</th>\n",
       "      <td id=\"T_95a2c_row5_col0\" class=\"data row5 col0\" >52</td>\n",
       "      <td id=\"T_95a2c_row5_col1\" class=\"data row5 col1\" >9.03%</td>\n",
       "    </tr>\n",
       "    <tr>\n",
       "      <th id=\"T_95a2c_level0_row6\" class=\"row_heading level0 row6\" >35-39</th>\n",
       "      <td id=\"T_95a2c_row6_col0\" class=\"data row6 col0\" >31</td>\n",
       "      <td id=\"T_95a2c_row6_col1\" class=\"data row6 col1\" >5.38%</td>\n",
       "    </tr>\n",
       "    <tr>\n",
       "      <th id=\"T_95a2c_level0_row7\" class=\"row_heading level0 row7\" >40+</th>\n",
       "      <td id=\"T_95a2c_row7_col0\" class=\"data row7 col0\" >12</td>\n",
       "      <td id=\"T_95a2c_row7_col1\" class=\"data row7 col1\" >2.08%</td>\n",
       "    </tr>\n",
       "  </tbody>\n",
       "</table>\n"
      ],
      "text/plain": [
       "<pandas.io.formats.style.Styler at 0x17001849b70>"
      ]
     },
     "execution_count": 46,
     "metadata": {},
     "output_type": "execute_result"
    }
   ],
   "source": [
    "# Create Bins\n",
    "age_bins = [0, 9.90, 14.90, 19.90, 24.90, 29.90, 34.90, 39.90, 99999]\n",
    "group_names = [\"<10\", \"10-14\", \"15-19\", \"20-24\", \"25-29\", \"30-34\", \"35-39\", \"40+\"]\n",
    "\n",
    "# Sort age values into bins established above\n",
    "purchase_data[\"Age Group\"] = pd.cut(purchase_data[\"Age\"],age_bins, labels=group_names)\n",
    "purchase_data\n",
    "\n",
    "# New data frame with the \"Age Group\" and grouped it\n",
    "age_grouped = purchase_data.groupby(\"Age Group\")\n",
    "\n",
    "# Total players by age category \n",
    "total_count_age = age_grouped[\"SN\"].nunique()\n",
    "\n",
    "# Percentages by age category \n",
    "percentage_by_age = (total_count_age/tot_players) * 100\n",
    "\n",
    "# Create new dataframe\n",
    "age_demographics = pd.DataFrame({\"Total Count\": total_count_age, \"Percentage of Players\": percentage_by_age})\n",
    "\n",
    "# Remove index in top left \n",
    "age_demographics.index.name = None\n",
    "\n",
    "# Format percentage with two decimal places \n",
    "age_demographics.style.format({\"Percentage of Players\":\"{:,.2f}%\"})"
   ]
  },
  {
   "cell_type": "markdown",
   "metadata": {},
   "source": [
    "## Purchasing Analysis (Age)"
   ]
  },
  {
   "cell_type": "markdown",
   "metadata": {},
   "source": [
    "* Bin the purchase_data data frame by age\n",
    "\n",
    "\n",
    "* Run basic calculations to obtain purchase count, avg. purchase price, avg. purchase total per person etc. in the table below\n",
    "\n",
    "\n",
    "* Create a summary data frame to hold the results\n",
    "\n",
    "\n",
    "* Optional: give the displayed data cleaner formatting\n",
    "\n",
    "\n",
    "* Display the summary data frame"
   ]
  },
  {
   "cell_type": "code",
   "execution_count": 56,
   "metadata": {},
   "outputs": [
    {
     "data": {
      "text/html": [
       "<style type=\"text/css\">\n",
       "</style>\n",
       "<table id=\"T_ad373\">\n",
       "  <thead>\n",
       "    <tr>\n",
       "      <th class=\"blank level0\" >&nbsp;</th>\n",
       "      <th id=\"T_ad373_level0_col0\" class=\"col_heading level0 col0\" >Purchase Count</th>\n",
       "      <th id=\"T_ad373_level0_col1\" class=\"col_heading level0 col1\" >Average Purchase Price</th>\n",
       "      <th id=\"T_ad373_level0_col2\" class=\"col_heading level0 col2\" >Total Purchase Value</th>\n",
       "      <th id=\"T_ad373_level0_col3\" class=\"col_heading level0 col3\" >Avg Total Purchase per Person</th>\n",
       "    </tr>\n",
       "    <tr>\n",
       "      <th class=\"index_name level0\" >Age Ranges</th>\n",
       "      <th class=\"blank col0\" >&nbsp;</th>\n",
       "      <th class=\"blank col1\" >&nbsp;</th>\n",
       "      <th class=\"blank col2\" >&nbsp;</th>\n",
       "      <th class=\"blank col3\" >&nbsp;</th>\n",
       "    </tr>\n",
       "  </thead>\n",
       "  <tbody>\n",
       "    <tr>\n",
       "      <th id=\"T_ad373_level0_row0\" class=\"row_heading level0 row0\" ><10</th>\n",
       "      <td id=\"T_ad373_row0_col0\" class=\"data row0 col0\" >23</td>\n",
       "      <td id=\"T_ad373_row0_col1\" class=\"data row0 col1\" >$3.35</td>\n",
       "      <td id=\"T_ad373_row0_col2\" class=\"data row0 col2\" >$77.13</td>\n",
       "      <td id=\"T_ad373_row0_col3\" class=\"data row0 col3\" >$4.54</td>\n",
       "    </tr>\n",
       "    <tr>\n",
       "      <th id=\"T_ad373_level0_row1\" class=\"row_heading level0 row1\" >10-14</th>\n",
       "      <td id=\"T_ad373_row1_col0\" class=\"data row1 col0\" >28</td>\n",
       "      <td id=\"T_ad373_row1_col1\" class=\"data row1 col1\" >$2.96</td>\n",
       "      <td id=\"T_ad373_row1_col2\" class=\"data row1 col2\" >$82.78</td>\n",
       "      <td id=\"T_ad373_row1_col3\" class=\"data row1 col3\" >$3.76</td>\n",
       "    </tr>\n",
       "    <tr>\n",
       "      <th id=\"T_ad373_level0_row2\" class=\"row_heading level0 row2\" >15-19</th>\n",
       "      <td id=\"T_ad373_row2_col0\" class=\"data row2 col0\" >136</td>\n",
       "      <td id=\"T_ad373_row2_col1\" class=\"data row2 col1\" >$3.04</td>\n",
       "      <td id=\"T_ad373_row2_col2\" class=\"data row2 col2\" >$412.89</td>\n",
       "      <td id=\"T_ad373_row2_col3\" class=\"data row2 col3\" >$3.86</td>\n",
       "    </tr>\n",
       "    <tr>\n",
       "      <th id=\"T_ad373_level0_row3\" class=\"row_heading level0 row3\" >20-24</th>\n",
       "      <td id=\"T_ad373_row3_col0\" class=\"data row3 col0\" >365</td>\n",
       "      <td id=\"T_ad373_row3_col1\" class=\"data row3 col1\" >$3.05</td>\n",
       "      <td id=\"T_ad373_row3_col2\" class=\"data row3 col2\" >$1,114.06</td>\n",
       "      <td id=\"T_ad373_row3_col3\" class=\"data row3 col3\" >$4.32</td>\n",
       "    </tr>\n",
       "    <tr>\n",
       "      <th id=\"T_ad373_level0_row4\" class=\"row_heading level0 row4\" >25-29</th>\n",
       "      <td id=\"T_ad373_row4_col0\" class=\"data row4 col0\" >101</td>\n",
       "      <td id=\"T_ad373_row4_col1\" class=\"data row4 col1\" >$2.90</td>\n",
       "      <td id=\"T_ad373_row4_col2\" class=\"data row4 col2\" >$293.00</td>\n",
       "      <td id=\"T_ad373_row4_col3\" class=\"data row4 col3\" >$3.81</td>\n",
       "    </tr>\n",
       "    <tr>\n",
       "      <th id=\"T_ad373_level0_row5\" class=\"row_heading level0 row5\" >30-34</th>\n",
       "      <td id=\"T_ad373_row5_col0\" class=\"data row5 col0\" >73</td>\n",
       "      <td id=\"T_ad373_row5_col1\" class=\"data row5 col1\" >$2.93</td>\n",
       "      <td id=\"T_ad373_row5_col2\" class=\"data row5 col2\" >$214.00</td>\n",
       "      <td id=\"T_ad373_row5_col3\" class=\"data row5 col3\" >$4.12</td>\n",
       "    </tr>\n",
       "    <tr>\n",
       "      <th id=\"T_ad373_level0_row6\" class=\"row_heading level0 row6\" >35-39</th>\n",
       "      <td id=\"T_ad373_row6_col0\" class=\"data row6 col0\" >41</td>\n",
       "      <td id=\"T_ad373_row6_col1\" class=\"data row6 col1\" >$3.60</td>\n",
       "      <td id=\"T_ad373_row6_col2\" class=\"data row6 col2\" >$147.67</td>\n",
       "      <td id=\"T_ad373_row6_col3\" class=\"data row6 col3\" >$4.76</td>\n",
       "    </tr>\n",
       "    <tr>\n",
       "      <th id=\"T_ad373_level0_row7\" class=\"row_heading level0 row7\" >40+</th>\n",
       "      <td id=\"T_ad373_row7_col0\" class=\"data row7 col0\" >13</td>\n",
       "      <td id=\"T_ad373_row7_col1\" class=\"data row7 col1\" >$2.94</td>\n",
       "      <td id=\"T_ad373_row7_col2\" class=\"data row7 col2\" >$38.24</td>\n",
       "      <td id=\"T_ad373_row7_col3\" class=\"data row7 col3\" >$3.19</td>\n",
       "    </tr>\n",
       "  </tbody>\n",
       "</table>\n"
      ],
      "text/plain": [
       "<pandas.io.formats.style.Styler at 0x1700067a080>"
      ]
     },
     "execution_count": 56,
     "metadata": {},
     "output_type": "execute_result"
    }
   ],
   "source": [
    "# Total purchases by age\n",
    "purchase_count = age_grouped[\"Purchase ID\"].count()\n",
    "\n",
    "# Avg. purchase prices by age\n",
    "avg_purchase_price = age_grouped[\"Price\"].mean()\n",
    "\n",
    "# Avg. purchase total by age \n",
    "purchase_total = age_grouped[\"Price\"].sum()\n",
    "\n",
    "# Calculating Avg. purchase per person\n",
    "avg_purchase_per_person = purchase_total/total_count_age\n",
    "\n",
    "# Create New dataframe to hold results                                                                                                           \n",
    "age_pur_analysis = pd.DataFrame({\"Purchase Count\": purchase_count, \n",
    "                                    \"Average Purchase Price\": avg_purchase_price,\n",
    "                                    \"Total Purchase Value\":purchase_total,\n",
    "                                    \"Avg Total Purchase per Person\": avg_purchase_per_person})\n",
    "\n",
    "# Provide index in top left as \"Age Ranges\"\n",
    "age_pur_analysis.index.name = \"Age Ranges\"\n",
    "\n",
    "# Format with currency style\n",
    "age_pur_analysis.style.format({\"Average Purchase Price\":\"${:,.2f}\",\n",
    "                                  \"Total Purchase Value\":\"${:,.2f}\",\n",
    "                                  \"Avg Total Purchase per Person\":\"${:,.2f}\"})"
   ]
  },
  {
   "cell_type": "markdown",
   "metadata": {},
   "source": [
    "# Top Spenders"
   ]
  },
  {
   "cell_type": "markdown",
   "metadata": {},
   "source": [
    "* Run basic calculations to obtain the results in the table below\n",
    "\n",
    "\n",
    "* Create a summary data frame to hold the results\n",
    "\n",
    "\n",
    "* Sort the total purchase value column in descending order\n",
    "\n",
    "\n",
    "* Optional: give the displayed data cleaner formatting\n",
    "\n",
    "\n",
    "* Display a preview of the summary data frame\n",
    "\n"
   ]
  },
  {
   "cell_type": "code",
   "execution_count": 48,
   "metadata": {},
   "outputs": [
    {
     "data": {
      "text/html": [
       "<div>\n",
       "<style scoped>\n",
       "    .dataframe tbody tr th:only-of-type {\n",
       "        vertical-align: middle;\n",
       "    }\n",
       "\n",
       "    .dataframe tbody tr th {\n",
       "        vertical-align: top;\n",
       "    }\n",
       "\n",
       "    .dataframe thead th {\n",
       "        text-align: right;\n",
       "    }\n",
       "</style>\n",
       "<table border=\"1\" class=\"dataframe\">\n",
       "  <thead>\n",
       "    <tr style=\"text-align: right;\">\n",
       "      <th></th>\n",
       "      <th>Purchase Count</th>\n",
       "      <th>Average Purchase Price</th>\n",
       "      <th>Total Purchase Value</th>\n",
       "    </tr>\n",
       "    <tr>\n",
       "      <th>SN</th>\n",
       "      <th></th>\n",
       "      <th></th>\n",
       "      <th></th>\n",
       "    </tr>\n",
       "  </thead>\n",
       "  <tbody>\n",
       "    <tr>\n",
       "      <th>Lisosia93</th>\n",
       "      <td>5</td>\n",
       "      <td>$3.79</td>\n",
       "      <td>$18.96</td>\n",
       "    </tr>\n",
       "    <tr>\n",
       "      <th>Idastidru52</th>\n",
       "      <td>4</td>\n",
       "      <td>$3.86</td>\n",
       "      <td>$15.45</td>\n",
       "    </tr>\n",
       "    <tr>\n",
       "      <th>Chamjask73</th>\n",
       "      <td>3</td>\n",
       "      <td>$4.61</td>\n",
       "      <td>$13.83</td>\n",
       "    </tr>\n",
       "    <tr>\n",
       "      <th>Iral74</th>\n",
       "      <td>4</td>\n",
       "      <td>$3.40</td>\n",
       "      <td>$13.62</td>\n",
       "    </tr>\n",
       "    <tr>\n",
       "      <th>Iskadarya95</th>\n",
       "      <td>3</td>\n",
       "      <td>$4.37</td>\n",
       "      <td>$13.10</td>\n",
       "    </tr>\n",
       "  </tbody>\n",
       "</table>\n",
       "</div>"
      ],
      "text/plain": [
       "             Purchase Count Average Purchase Price Total Purchase Value\n",
       "SN                                                                     \n",
       "Lisosia93                 5                  $3.79               $18.96\n",
       "Idastidru52               4                  $3.86               $15.45\n",
       "Chamjask73                3                  $4.61               $13.83\n",
       "Iral74                    4                  $3.40               $13.62\n",
       "Iskadarya95               3                  $4.37               $13.10"
      ]
     },
     "execution_count": 48,
     "metadata": {},
     "output_type": "execute_result"
    }
   ],
   "source": [
    "#Calculations\n",
    "user_total = purchase_data.groupby([\"SN\"]).sum()[\"Price\"].rename(\"Total Purchase Value\")\n",
    "user_average = purchase_data.groupby([\"SN\"]).mean()[\"Price\"].rename(\"Average Purchase Price\")\n",
    "user_count = purchase_data.groupby([\"SN\"]).count()[\"Price\"].rename(\"Purchase Count\")\n",
    "\n",
    "#creating Dataframe to hold results\n",
    "user_data = pd.DataFrame({\"Purchase Count\": user_count,\n",
    "                          \"Average Purchase Price\": user_average,\n",
    "                          \"Total Purchase Value\": user_total})\n",
    "\n",
    "# Formatting to 2 decimal points\n",
    "user_data = user_data.round(2)\n",
    "\n",
    "#Formating and displaying top spenders dataframe\n",
    "top_spend_data = user_data.sort_values(\"Total Purchase Value\", ascending=False).head()\n",
    "top_spend_data[\"Average Purchase Price\"] = top_spend_data[\"Average Purchase Price\"].map(\"${:.2f}\".format)\n",
    "top_spend_data[\"Total Purchase Value\"] = top_spend_data[\"Total Purchase Value\"].map(\"${:.2f}\".format)\n",
    "top_spend_data                      \n"
   ]
  },
  {
   "cell_type": "markdown",
   "metadata": {},
   "source": [
    "## Most Popular Items"
   ]
  },
  {
   "cell_type": "markdown",
   "metadata": {},
   "source": [
    "* Retrieve the Item ID, Item Name, and Item Price columns\n",
    "\n",
    "\n",
    "* Group by Item ID and Item Name. Perform calculations to obtain purchase count, item price, and total purchase value\n",
    "\n",
    "\n",
    "* Create a summary data frame to hold the results\n",
    "\n",
    "\n",
    "* Sort the purchase count column in descending order\n",
    "\n",
    "\n",
    "* Optional: give the displayed data cleaner formatting\n",
    "\n",
    "\n",
    "* Display a preview of the summary data frame\n",
    "\n"
   ]
  },
  {
   "cell_type": "code",
   "execution_count": 57,
   "metadata": {},
   "outputs": [
    {
     "data": {
      "text/html": [
       "<style type=\"text/css\">\n",
       "</style>\n",
       "<table id=\"T_7fe47\">\n",
       "  <thead>\n",
       "    <tr>\n",
       "      <th class=\"blank\" >&nbsp;</th>\n",
       "      <th class=\"blank level0\" >&nbsp;</th>\n",
       "      <th id=\"T_7fe47_level0_col0\" class=\"col_heading level0 col0\" >Purchase Count</th>\n",
       "      <th id=\"T_7fe47_level0_col1\" class=\"col_heading level0 col1\" >Item Price</th>\n",
       "      <th id=\"T_7fe47_level0_col2\" class=\"col_heading level0 col2\" >Total Purchase Value</th>\n",
       "    </tr>\n",
       "    <tr>\n",
       "      <th class=\"index_name level0\" >Item ID</th>\n",
       "      <th class=\"index_name level1\" >Item Name</th>\n",
       "      <th class=\"blank col0\" >&nbsp;</th>\n",
       "      <th class=\"blank col1\" >&nbsp;</th>\n",
       "      <th class=\"blank col2\" >&nbsp;</th>\n",
       "    </tr>\n",
       "  </thead>\n",
       "  <tbody>\n",
       "    <tr>\n",
       "      <th id=\"T_7fe47_level0_row0\" class=\"row_heading level0 row0\" >92</th>\n",
       "      <th id=\"T_7fe47_level1_row0\" class=\"row_heading level1 row0\" >Final Critic</th>\n",
       "      <td id=\"T_7fe47_row0_col0\" class=\"data row0 col0\" >13</td>\n",
       "      <td id=\"T_7fe47_row0_col1\" class=\"data row0 col1\" >$4.61</td>\n",
       "      <td id=\"T_7fe47_row0_col2\" class=\"data row0 col2\" >$59.99</td>\n",
       "    </tr>\n",
       "    <tr>\n",
       "      <th id=\"T_7fe47_level0_row1\" class=\"row_heading level0 row1\" >178</th>\n",
       "      <th id=\"T_7fe47_level1_row1\" class=\"row_heading level1 row1\" >Oathbreaker, Last Hope of the Breaking Storm</th>\n",
       "      <td id=\"T_7fe47_row1_col0\" class=\"data row1 col0\" >12</td>\n",
       "      <td id=\"T_7fe47_row1_col1\" class=\"data row1 col1\" >$4.23</td>\n",
       "      <td id=\"T_7fe47_row1_col2\" class=\"data row1 col2\" >$50.76</td>\n",
       "    </tr>\n",
       "    <tr>\n",
       "      <th id=\"T_7fe47_level0_row2\" class=\"row_heading level0 row2\" >145</th>\n",
       "      <th id=\"T_7fe47_level1_row2\" class=\"row_heading level1 row2\" >Fiery Glass Crusader</th>\n",
       "      <td id=\"T_7fe47_row2_col0\" class=\"data row2 col0\" >9</td>\n",
       "      <td id=\"T_7fe47_row2_col1\" class=\"data row2 col1\" >$4.58</td>\n",
       "      <td id=\"T_7fe47_row2_col2\" class=\"data row2 col2\" >$41.22</td>\n",
       "    </tr>\n",
       "    <tr>\n",
       "      <th id=\"T_7fe47_level0_row3\" class=\"row_heading level0 row3\" >132</th>\n",
       "      <th id=\"T_7fe47_level1_row3\" class=\"row_heading level1 row3\" >Persuasion</th>\n",
       "      <td id=\"T_7fe47_row3_col0\" class=\"data row3 col0\" >9</td>\n",
       "      <td id=\"T_7fe47_row3_col1\" class=\"data row3 col1\" >$3.22</td>\n",
       "      <td id=\"T_7fe47_row3_col2\" class=\"data row3 col2\" >$28.99</td>\n",
       "    </tr>\n",
       "    <tr>\n",
       "      <th id=\"T_7fe47_level0_row4\" class=\"row_heading level0 row4\" >108</th>\n",
       "      <th id=\"T_7fe47_level1_row4\" class=\"row_heading level1 row4\" >Extraction, Quickblade Of Trembling Hands</th>\n",
       "      <td id=\"T_7fe47_row4_col0\" class=\"data row4 col0\" >9</td>\n",
       "      <td id=\"T_7fe47_row4_col1\" class=\"data row4 col1\" >$3.53</td>\n",
       "      <td id=\"T_7fe47_row4_col2\" class=\"data row4 col2\" >$31.77</td>\n",
       "    </tr>\n",
       "  </tbody>\n",
       "</table>\n"
      ],
      "text/plain": [
       "<pandas.io.formats.style.Styler at 0x1700184ad10>"
      ]
     },
     "execution_count": 57,
     "metadata": {},
     "output_type": "execute_result"
    }
   ],
   "source": [
    "# Create new data frame with Item Id, Item Name, Price\n",
    "items=purchase_data[[\"Item ID\", \"Item Name\", \"Price\"]]\n",
    "\n",
    "# Group the item data by item id and item name \n",
    "item_group = items.groupby([\"Item ID\",\"Item Name\"])\n",
    "\n",
    "# Count the number of times an item has been purchased \n",
    "purchase_count_item = item_group[\"Price\"].count()\n",
    "\n",
    "# Purchase value per item \n",
    "purchase_value = (item_group[\"Price\"].sum()) \n",
    "\n",
    "\n",
    "# Individual item price\n",
    "item_price = purchase_value/purchase_count_item\n",
    "\n",
    "# Creating dataframe\n",
    "most_popular_items = pd.DataFrame({\"Purchase Count\": purchase_count_item, \n",
    "                                   \"Item Price\": item_price,\n",
    "                                   \"Total Purchase Value\":purchase_value})\n",
    "\n",
    "#Formating\n",
    "most_popular_items.style.format({\"Item Price\":\"${:,.2f}\",\n",
    "                                \"Total Purchase Value\":\"${:,.2f}\"})\n",
    "#Display output\n",
    "popular=most_popular_items.sort_values([\"Purchase Count\"], ascending=False).head()\n",
    "popular.style.format({\"Item Price\":\"${:,.2f}\",\n",
    "                                \"Total Purchase Value\":\"${:,.2f}\"})\n"
   ]
  },
  {
   "cell_type": "markdown",
   "metadata": {},
   "source": [
    "## Most Profitable Items"
   ]
  },
  {
   "cell_type": "markdown",
   "metadata": {},
   "source": [
    "* Sort the above table by total purchase value in descending order\n",
    "\n",
    "\n",
    "* Optional: give the displayed data cleaner formatting\n",
    "\n",
    "\n",
    "* Display a preview of the data frame\n",
    "\n"
   ]
  },
  {
   "cell_type": "code",
   "execution_count": 58,
   "metadata": {
    "scrolled": true
   },
   "outputs": [
    {
     "data": {
      "text/html": [
       "<style type=\"text/css\">\n",
       "</style>\n",
       "<table id=\"T_9630e\">\n",
       "  <thead>\n",
       "    <tr>\n",
       "      <th class=\"blank\" >&nbsp;</th>\n",
       "      <th class=\"blank level0\" >&nbsp;</th>\n",
       "      <th id=\"T_9630e_level0_col0\" class=\"col_heading level0 col0\" >Purchase Count</th>\n",
       "      <th id=\"T_9630e_level0_col1\" class=\"col_heading level0 col1\" >Item Price</th>\n",
       "      <th id=\"T_9630e_level0_col2\" class=\"col_heading level0 col2\" >Total Purchase Value</th>\n",
       "    </tr>\n",
       "    <tr>\n",
       "      <th class=\"index_name level0\" >Item ID</th>\n",
       "      <th class=\"index_name level1\" >Item Name</th>\n",
       "      <th class=\"blank col0\" >&nbsp;</th>\n",
       "      <th class=\"blank col1\" >&nbsp;</th>\n",
       "      <th class=\"blank col2\" >&nbsp;</th>\n",
       "    </tr>\n",
       "  </thead>\n",
       "  <tbody>\n",
       "    <tr>\n",
       "      <th id=\"T_9630e_level0_row0\" class=\"row_heading level0 row0\" >92</th>\n",
       "      <th id=\"T_9630e_level1_row0\" class=\"row_heading level1 row0\" >Final Critic</th>\n",
       "      <td id=\"T_9630e_row0_col0\" class=\"data row0 col0\" >13</td>\n",
       "      <td id=\"T_9630e_row0_col1\" class=\"data row0 col1\" >$4.61</td>\n",
       "      <td id=\"T_9630e_row0_col2\" class=\"data row0 col2\" >$59.99</td>\n",
       "    </tr>\n",
       "    <tr>\n",
       "      <th id=\"T_9630e_level0_row1\" class=\"row_heading level0 row1\" >178</th>\n",
       "      <th id=\"T_9630e_level1_row1\" class=\"row_heading level1 row1\" >Oathbreaker, Last Hope of the Breaking Storm</th>\n",
       "      <td id=\"T_9630e_row1_col0\" class=\"data row1 col0\" >12</td>\n",
       "      <td id=\"T_9630e_row1_col1\" class=\"data row1 col1\" >$4.23</td>\n",
       "      <td id=\"T_9630e_row1_col2\" class=\"data row1 col2\" >$50.76</td>\n",
       "    </tr>\n",
       "    <tr>\n",
       "      <th id=\"T_9630e_level0_row2\" class=\"row_heading level0 row2\" >82</th>\n",
       "      <th id=\"T_9630e_level1_row2\" class=\"row_heading level1 row2\" >Nirvana</th>\n",
       "      <td id=\"T_9630e_row2_col0\" class=\"data row2 col0\" >9</td>\n",
       "      <td id=\"T_9630e_row2_col1\" class=\"data row2 col1\" >$4.90</td>\n",
       "      <td id=\"T_9630e_row2_col2\" class=\"data row2 col2\" >$44.10</td>\n",
       "    </tr>\n",
       "    <tr>\n",
       "      <th id=\"T_9630e_level0_row3\" class=\"row_heading level0 row3\" >145</th>\n",
       "      <th id=\"T_9630e_level1_row3\" class=\"row_heading level1 row3\" >Fiery Glass Crusader</th>\n",
       "      <td id=\"T_9630e_row3_col0\" class=\"data row3 col0\" >9</td>\n",
       "      <td id=\"T_9630e_row3_col1\" class=\"data row3 col1\" >$4.58</td>\n",
       "      <td id=\"T_9630e_row3_col2\" class=\"data row3 col2\" >$41.22</td>\n",
       "    </tr>\n",
       "    <tr>\n",
       "      <th id=\"T_9630e_level0_row4\" class=\"row_heading level0 row4\" >103</th>\n",
       "      <th id=\"T_9630e_level1_row4\" class=\"row_heading level1 row4\" >Singed Scalpel</th>\n",
       "      <td id=\"T_9630e_row4_col0\" class=\"data row4 col0\" >8</td>\n",
       "      <td id=\"T_9630e_row4_col1\" class=\"data row4 col1\" >$4.35</td>\n",
       "      <td id=\"T_9630e_row4_col2\" class=\"data row4 col2\" >$34.80</td>\n",
       "    </tr>\n",
       "  </tbody>\n",
       "</table>\n"
      ],
      "text/plain": [
       "<pandas.io.formats.style.Styler at 0x17000677cd0>"
      ]
     },
     "execution_count": 58,
     "metadata": {},
     "output_type": "execute_result"
    }
   ],
   "source": [
    "# Take the most_popular items data frame and change the sorting to find highest total purchase value\n",
    "popular_df = most_popular_items.sort_values([\"Total Purchase Value\"],\n",
    "                                                   ascending=False).head()\n",
    "# Format \n",
    "popular_df.style.format({\"Item Price\":\"${:,.2f}\",\n",
    "                                \"Total Purchase Value\":\"${:,.2f}\"})\n"
   ]
  }
 ],
 "metadata": {
  "anaconda-cloud": {},
  "kernel_info": {
   "name": "python3"
  },
  "kernelspec": {
   "display_name": "Python [conda env:bootcamp] *",
   "language": "python",
   "name": "conda-env-bootcamp-py"
  },
  "language_info": {
   "codemirror_mode": {
    "name": "ipython",
    "version": 3
   },
   "file_extension": ".py",
   "mimetype": "text/x-python",
   "name": "python",
   "nbconvert_exporter": "python",
   "pygments_lexer": "ipython3",
   "version": "3.10.4"
  },
  "latex_envs": {
   "LaTeX_envs_menu_present": true,
   "autoclose": false,
   "autocomplete": true,
   "bibliofile": "biblio.bib",
   "cite_by": "apalike",
   "current_citInitial": 1,
   "eqLabelWithNumbers": true,
   "eqNumInitial": 1,
   "hotkeys": {
    "equation": "Ctrl-E",
    "itemize": "Ctrl-I"
   },
   "labels_anchors": false,
   "latex_user_defs": false,
   "report_style_numbering": false,
   "user_envs_cfg": false
  },
  "nteract": {
   "version": "0.2.0"
  }
 },
 "nbformat": 4,
 "nbformat_minor": 2
}
